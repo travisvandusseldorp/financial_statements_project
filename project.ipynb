{
 "cells": [
  {
   "cell_type": "code",
   "execution_count": null,
   "metadata": {},
   "outputs": [],
   "source": [
    "# Import libraries, set options to display all columns in dataframes\n",
    "import pandas as pd\n",
    "import numpy as np\n",
    "import re\n",
    "import requests\n",
    "from bigfloat import *\n",
    "from lxml import html\n",
    "from functools import partial, reduce \n",
    "\n",
    "idx = pd.IndexSlice\n",
    "pd.set_option('display.max_columns', None)  \n",
    "pd.__version__"
   ]
  },
  {
   "cell_type": "code",
   "execution_count": null,
   "metadata": {},
   "outputs": [],
   "source": [
    "# Load financial data\n",
    "subs = pd.read_csv(\"data/2019q1//sub.txt\", sep='\\t')# parsedates=['accepted'])) \n",
    "pre = pd.read_csv(\"data/2019q1/pre.txt\", sep='\\t') \n",
    "num = pd.read_csv(\"data/2019q1/num.txt\", sep='\\t')#, parsedates=['ddate']) \n",
    "tag = pd.read_csv(\"data/2019q1/tag.txt\", sep='\\t') \n",
    "\n",
    "subs = subs.append(pd.read_csv(\"data/2019q2/sub.txt\", sep='\\t'))\n",
    "pre = pre.append(pd.read_csv(\"data/2019q2/pre.txt\", sep='\\t'))\n",
    "num = num.append(pd.read_csv(\"data/2019q2/num.txt\", sep='\\t'))#, parsedates=['ddate']))\n",
    "\n",
    "subs = subs.append(pd.read_csv(\"data/2019q3/sub.txt\", sep='\\t'))\n",
    "pre = pre.append(pd.read_csv(\"data/2019q3/pre.txt\", sep='\\t'))\n",
    "num = num.append(pd.read_csv(\"data/2019q3/num.txt\", sep='\\t'))\n",
    "\n",
    "subs = subs.append(pd.read_csv(\"data/2018q1/sub.txt\", sep='\\t'))\n",
    "pre = pre.append(pd.read_csv(\"data/2018q1/pre.txt\", sep='\\t'))\n",
    "num = num.append(pd.read_csv(\"data/2018q1/num.txt\", sep='\\t'))#, parsedates=['ddate']))\n",
    "\n",
    "subs = subs.append(pd.read_csv(\"data/2018q2/sub.txt\", sep='\\t'))\n",
    "pre = pre.append(pd.read_csv(\"data/2018q2/pre.txt\", sep='\\t'))\n",
    "num = num.append(pd.read_csv(\"data/2018q2/num.txt\", sep='\\t'))#, parsedates=['ddate']))\n",
    "\n",
    "subs = subs.append(pd.read_csv(\"data/2018q3/sub.txt\", sep='\\t'))\n",
    "pre = pre.append(pd.read_csv(\"data/2018q3/pre.txt\", sep='\\t'))\n",
    "num = num.append(pd.read_csv(\"data/2018q3/num.txt\", sep='\\t'))#, parsedates=['ddate']))\n",
    "\n",
    "subs = subs.append(pd.read_csv(\"data/2018q4/sub.txt\", sep='\\t'))\n",
    "pre = pre.append(pd.read_csv(\"data/2018q4/pre.txt\", sep='\\t'))\n",
    "num = num.append(pd.read_csv(\"data/2018q4/num.txt\", sep='\\t'))#, parsedates=['ddate']))"
   ]
  },
  {
   "cell_type": "code",
   "execution_count": null,
   "metadata": {},
   "outputs": [],
   "source": [
    "# Load and clean ticker and ciks\n",
    "ciks = pd.read_csv('data/ticker_cik.csv')\n",
    "ciks.dropna(inplace=True)\n",
    "ciks['cik'] = ciks['cik'].astype('int64')"
   ]
  },
  {
   "cell_type": "code",
   "execution_count": null,
   "metadata": {},
   "outputs": [],
   "source": [
    "new_sub = pd.merge(left=ciks, right=subs, left_on='cik', right_on='cik')\n",
    "new_sub = new_sub[['ticker', 'adsh', 'name', 'form', 'period', 'fp', 'fy', 'fye']]"
   ]
  },
  {
   "cell_type": "code",
   "execution_count": null,
   "metadata": {},
   "outputs": [],
   "source": [
    "new_pre = pre[['adsh', 'report', 'line', 'stmt', 'tag', 'plabel', 'negating', 'inpth']]"
   ]
  },
  {
   "cell_type": "code",
   "execution_count": null,
   "metadata": {},
   "outputs": [],
   "source": [
    "sub_pre = pd.merge(left=new_sub, right=new_pre, on='adsh')"
   ]
  },
  {
   "cell_type": "code",
   "execution_count": null,
   "metadata": {},
   "outputs": [],
   "source": [
    "new_num = num[['adsh', 'tag', 'version', 'ddate', 'qtrs', 'uom', 'value', 'footnote']]"
   ]
  },
  {
   "cell_type": "code",
   "execution_count": null,
   "metadata": {},
   "outputs": [],
   "source": []
  },
  {
   "cell_type": "code",
   "execution_count": null,
   "metadata": {},
   "outputs": [],
   "source": [
    "new_sub = pd.merge(left=ciks, right=subs, left_on='cik', right_on='cik')\n",
    "sub_pre = pd.merge(left=new_sub, right=new_pre, on='adsh' )"
   ]
  },
  {
   "cell_type": "code",
   "execution_count": null,
   "metadata": {},
   "outputs": [],
   "source": [
    "merged_items = pd.merge(left=sub_pre, right=new_num, on=['adsh', 'tag'])"
   ]
  },
  {
   "cell_type": "code",
   "execution_count": null,
   "metadata": {},
   "outputs": [],
   "source": [
    "merged_items.head()"
   ]
  },
  {
   "cell_type": "code",
   "execution_count": null,
   "metadata": {},
   "outputs": [],
   "source": [
    "aapl = merged_items[merged_items['ticker']=='aapl']"
   ]
  },
  {
   "cell_type": "code",
   "execution_count": null,
   "metadata": {},
   "outputs": [],
   "source": [
    "print(aapl['report'].unique())\n",
    "print(aapl['stmt'].unique())\n",
    "for i in range(1,9):\n",
    "    print(i)\n",
    "    q = aapl[aapl['report']==i]\n",
    "    display(q)"
   ]
  },
  {
   "cell_type": "code",
   "execution_count": null,
   "metadata": {
    "scrolled": true
   },
   "outputs": [],
   "source": [
    "mv = aapl.pivot_table(index=['adsh', 'stmt', 'fp', 'report', 'form', 'qtrs', 'version', 'fye', 'line', 'plabel', 'tag'], columns=['ddate'], values = 'value')\n",
    "all_bs = mv\n",
    "all_bs"
   ]
  },
  {
   "cell_type": "code",
   "execution_count": null,
   "metadata": {},
   "outputs": [],
   "source": [
    "adsh_nums = list(all_bs.index.levels[0])\n",
    "all_bs2 = all_bs.reset_index(['adsh'])\n",
    "\n",
    "\n",
    "adsh_group = all_bs2.groupby('adsh')\n",
    "num_filings = len(all_bs2['adsh'].unique())\n",
    "\n",
    "w = {}\n",
    "\n",
    "bs_list = []\n",
    "is_list = []\n",
    "mq = list(z.index.get_level_values(0).unique())\n",
    "\n",
    "for i in range(0,num_filings):\n",
    "    first_adsh = adsh_group.get_group(adsh_nums[i])\n",
    "    c = first_adsh.drop('adsh', axis = 1)\n",
    "    \n",
    "    drops = []\n",
    "    levs = list(c.index.levels)\n",
    "    for i in levs:\n",
    "        if len(i) <= 1:\n",
    "            drops.append(i.name)\n",
    "    \n",
    "    d = c.reset_index(drops, drop=True)\n",
    "    e = d.reset_index('report', drop=True)\n",
    "    \n",
    "    argh = []\n",
    "    #e = d.reset_index('version')\n",
    "    #e=d\n",
    "    #versions = e['version'].unique()\n",
    "    \n",
    "    \n",
    "    #f = e.reset_index('qtrs')\n",
    "    \n",
    "    #g = f.drop(['version'], axis = 1)\n",
    "    \n",
    "    #h = f.reset_index('report', drop=True)\n",
    "    k = d.reset_index('report', drop=True)\n",
    "    i = h\n",
    "    #j = i[i['qtrs'] != 4]\n",
    "    #k = j.drop('qtrs', axis=1)\n",
    "    k = h\n",
    "    #k = j.unstack(1)\n",
    "    \n",
    "\n",
    "    y = k.dropna(axis=1, thresh=2)\n",
    "    z = y.copy()\n",
    "    #z = y.reset_index('line', drop=True)\n",
    "    #display(z)\n",
    "    \n",
    "    \n",
    "    for i in mq:\n",
    "        try:\n",
    "            u = e.loc[i].dropna(axis=1)\n",
    "###################### CHANGE BACK TO BS !!!!!!\n",
    "            if i == 'BS':\n",
    "                bs_list.append(u)\n",
    "            elif i == 'IS':\n",
    "                is_list.append(u)\n",
    "            else:\n",
    "                is_list.append(u)\n",
    "        except Exception:\n",
    "            pass"
   ]
  },
  {
   "cell_type": "code",
   "execution_count": null,
   "metadata": {},
   "outputs": [],
   "source": []
  },
  {
   "cell_type": "code",
   "execution_count": null,
   "metadata": {},
   "outputs": [],
   "source": [
    "########## BEGIN BALANCE SHEET #############"
   ]
  },
  {
   "cell_type": "code",
   "execution_count": null,
   "metadata": {},
   "outputs": [],
   "source": [
    "bs_list2 = [i.reset_index('line', drop=True).unstack(0) for i in bs_list]\n",
    "bs_list3 = [i.reset_index(['form', 'plabel'], drop=True) for i in bs_list2]\n",
    "balance_sheet_df = pd.concat(bs_list3, axis=1, sort=False)\n",
    "#reduce(lambda x, y: pd.merge(x, y, on=['tag'], how='outer'), bs_list2)"
   ]
  },
  {
   "cell_type": "code",
   "execution_count": null,
   "metadata": {},
   "outputs": [],
   "source": [
    "balance_sheet_df.loc[(0,'us-gaap/2018'):(4,'us-gaap/2018')]\n",
    "balance_sheet_df"
   ]
  },
  {
   "cell_type": "code",
   "execution_count": null,
   "metadata": {},
   "outputs": [],
   "source": [
    "versions_df_list = []\n",
    "versions = sorted(balance_sheet_df.index.get_level_values(1).unique(), reverse=True)\n",
    "for i in versions:\n",
    "    print(i)\n",
    "    versions_df_list.append(balance_sheet_df.loc[0,i])\n"
   ]
  },
  {
   "cell_type": "code",
   "execution_count": null,
   "metadata": {},
   "outputs": [],
   "source": [
    "comb_bs_df = versions_df_list[0].combine_first(versions_df_list[1])"
   ]
  },
  {
   "cell_type": "code",
   "execution_count": null,
   "metadata": {},
   "outputs": [],
   "source": [
    "versions_df_list[0]"
   ]
  },
  {
   "cell_type": "code",
   "execution_count": null,
   "metadata": {},
   "outputs": [],
   "source": [
    "comb_bs_df.rename(columns={'FY':'Q4-FY'}, inplace=True)\n",
    "comb_bs_df.reindex(sorted(comb_bs_df.columns), axis=1)"
   ]
  },
  {
   "cell_type": "code",
   "execution_count": null,
   "metadata": {},
   "outputs": [],
   "source": [
    "comb_bs_df"
   ]
  },
  {
   "cell_type": "code",
   "execution_count": null,
   "metadata": {},
   "outputs": [],
   "source": [
    "########## END BALANCE SHEET #############"
   ]
  },
  {
   "cell_type": "code",
   "execution_count": null,
   "metadata": {},
   "outputs": [],
   "source": []
  },
  {
   "cell_type": "code",
   "execution_count": null,
   "metadata": {},
   "outputs": [],
   "source": []
  },
  {
   "cell_type": "code",
   "execution_count": null,
   "metadata": {},
   "outputs": [],
   "source": [
    "###########################################################################\n",
    "###############   MERGE EXAMPLE    ########################################"
   ]
  },
  {
   "cell_type": "code",
   "execution_count": null,
   "metadata": {},
   "outputs": [],
   "source": [
    "arrays = [['bar', 'bar', 'baz', 'baz', 'foo', 'foo', 'qux', 'qux'],\n",
    "            ['one', 'two', 'one', 'two', 'one', 'two', 'one', 'two']]\n",
    "tuples = list(zip(*arrays))\n",
    "index1 = pd.MultiIndex.from_tuples(tuples, names=['first', 'second'])\n",
    "index2 = pd.MultiIndex.from_tuples(tuples, names=['third', 'fourth'])\n",
    "\n",
    "s1 = pd.DataFrame(np.random.randn(8), index=index1, columns=['s1'])\n",
    "s2 = pd.DataFrame(np.random.randn(8), index=index2, columns=['s2'])"
   ]
  },
  {
   "cell_type": "code",
   "execution_count": null,
   "metadata": {},
   "outputs": [],
   "source": [
    "s1"
   ]
  },
  {
   "cell_type": "code",
   "execution_count": null,
   "metadata": {},
   "outputs": [],
   "source": [
    "s2"
   ]
  },
  {
   "cell_type": "code",
   "execution_count": null,
   "metadata": {},
   "outputs": [],
   "source": [
    "s1.merge(s2, left_index=True, right_on=['third', 'fourth'])"
   ]
  },
  {
   "cell_type": "code",
   "execution_count": null,
   "metadata": {},
   "outputs": [],
   "source": [
    "pd.concat([s1, s2], axis=1)"
   ]
  },
  {
   "cell_type": "code",
   "execution_count": null,
   "metadata": {},
   "outputs": [],
   "source": [
    "pd.concat(bs_list3, axis=1, sort=False)"
   ]
  },
  {
   "cell_type": "code",
   "execution_count": null,
   "metadata": {},
   "outputs": [],
   "source": [
    "df1 = pd.DataFrame({'A': [None, 0], 'B': [None, 4]})\n",
    "df2 = pd.DataFrame({'A': [1, 1], 'B': [3, 3]})\n",
    "df1.combine_first(df2)"
   ]
  },
  {
   "cell_type": "code",
   "execution_count": null,
   "metadata": {},
   "outputs": [],
   "source": [
    "################################################################################################################"
   ]
  },
  {
   "cell_type": "code",
   "execution_count": null,
   "metadata": {},
   "outputs": [],
   "source": [
    "y.loc['BS']"
   ]
  },
  {
   "cell_type": "code",
   "execution_count": null,
   "metadata": {},
   "outputs": [],
   "source": []
  },
  {
   "cell_type": "code",
   "execution_count": null,
   "metadata": {},
   "outputs": [],
   "source": []
  },
  {
   "cell_type": "code",
   "execution_count": null,
   "metadata": {},
   "outputs": [],
   "source": []
  },
  {
   "cell_type": "code",
   "execution_count": null,
   "metadata": {},
   "outputs": [],
   "source": []
  },
  {
   "cell_type": "code",
   "execution_count": null,
   "metadata": {},
   "outputs": [],
   "source": []
  },
  {
   "cell_type": "code",
   "execution_count": null,
   "metadata": {},
   "outputs": [],
   "source": []
  },
  {
   "cell_type": "code",
   "execution_count": null,
   "metadata": {},
   "outputs": [],
   "source": []
  },
  {
   "cell_type": "code",
   "execution_count": null,
   "metadata": {},
   "outputs": [],
   "source": [
    "tester.droplevel(1)zz"
   ]
  },
  {
   "cell_type": "code",
   "execution_count": null,
   "metadata": {},
   "outputs": [],
   "source": [
    "t4 = t3.reset_index(level='version')\n",
    "t4.reset_index(['ticker','qtrs', 'fye'])\n"
   ]
  },
  {
   "cell_type": "code",
   "execution_count": null,
   "metadata": {},
   "outputs": [],
   "source": []
  },
  {
   "cell_type": "code",
   "execution_count": null,
   "metadata": {},
   "outputs": [],
   "source": [
    "t5 = t4.groupby(['version'])\n",
    "t5.get_group('us-gaap/2017')\n"
   ]
  },
  {
   "cell_type": "code",
   "execution_count": null,
   "metadata": {},
   "outputs": [],
   "source": [
    "t4['version'].unique()"
   ]
  },
  {
   "cell_type": "code",
   "execution_count": null,
   "metadata": {},
   "outputs": [],
   "source": []
  },
  {
   "cell_type": "code",
   "execution_count": null,
   "metadata": {},
   "outputs": [],
   "source": []
  },
  {
   "cell_type": "code",
   "execution_count": null,
   "metadata": {},
   "outputs": [],
   "source": [
    "# Create list containing different states in the data frame\n",
    "statement_list = []\n",
    "statment_types = aapl['stmt'].unique()\n",
    "for statement_type in statment_types:\n",
    "    statement = aapl[aapl['stmt'] == statement_type]\n",
    "    statement_list.append(statement)  "
   ]
  },
  {
   "cell_type": "code",
   "execution_count": null,
   "metadata": {},
   "outputs": [],
   "source": [
    "q10_list = []\n",
    "k10_list = []\n",
    "states = {}\n",
    "\n",
    "for statement in statement_list:\n",
    "    annual = statement[statement['form']=='10-K']\n",
    "    \n",
    "############ INCOME STATEMENT NEEDS 4 QTRS, BALANCE SHEET DOES NOT    \n",
    "    annual = annual[annual['qtrs']==4]\n",
    "    a_stmt_type = statement['stmt']\n",
    "\n",
    "    quarterly = statement[statement['form']=='10-Q']\n",
    "    q_stmt_type = statement['stmt']\n",
    "    \n",
    "    for version in quarterly['version'].unique():\n",
    "\n",
    "        v = quarterly[quarterly['version']==version]\n",
    "        q10 = v.pivot_table(index=['ticker', 'form', 'stmt', 'line', 'plabel'], columns=['ddate', 'fp'], values = 'value')\n",
    "        q10_list.append(q10)\n",
    "        \n",
    "        v2 = annual[annual['version']==version]\n",
    "        k10 = v2.pivot_table(index=['ticker', 'form', 'stmt', 'line', 'plabel'], columns=['ddate', 'fp'], values = 'value')\n",
    "        k10_list.append(k10)\n",
    "        \n",
    "states['10-Q'] = q10_list\n",
    "states['10-K'] = k10_list"
   ]
  },
  {
   "cell_type": "code",
   "execution_count": null,
   "metadata": {},
   "outputs": [],
   "source": [
    "#statement_pivots = []\n",
    "#for i in statement_list:\n",
    "#    statement_pivots.append(i.pivot_table(index=['ticker', 'ddate', 'form', 'stmt', 'qtrs', 'version', 'fye', 'line', 'plabel'], columns=['fp'], values = 'value'))\n",
    "mv = aapl.pivot_table(index=['adsh', 'ticker', 'ddate', 'form', 'stmt', 'qtrs', 'version', 'fye', 'line', 'plabel'], columns=['fp'], values = 'value')"
   ]
  },
  {
   "cell_type": "code",
   "execution_count": null,
   "metadata": {},
   "outputs": [],
   "source": [
    "statement_pivots[0]"
   ]
  },
  {
   "cell_type": "code",
   "execution_count": null,
   "metadata": {},
   "outputs": [],
   "source": []
  },
  {
   "cell_type": "code",
   "execution_count": null,
   "metadata": {},
   "outputs": [],
   "source": [
    "quarter_l = []\n",
    "for i in range(0,len(states['10-Q'])):\n",
    "    m = states['10-Q'][i]\n",
    "    display(m)\n",
    "    quarter_l.append(m)\n",
    "    \n",
    "    \n",
    "\n",
    "statment_labels = []\n",
    "\n",
    "for i in annual_l:\n",
    "    \n",
    "    stt = i.index.get_level_values(2).unique()\n",
    "    statment_labels.append(list(stt))\n",
    "\n",
    "statement_labels = [''.join(x) for x in statment_labels]\n",
    "\n"
   ]
  },
  {
   "cell_type": "code",
   "execution_count": null,
   "metadata": {},
   "outputs": [],
   "source": [
    "mamba = dict(zip(statement_labels,quarter_l))"
   ]
  },
  {
   "cell_type": "code",
   "execution_count": null,
   "metadata": {},
   "outputs": [],
   "source": [
    "########## FOR ANNUAL STATEMENET\n",
    "annual_l = []\n",
    "for i in range(0,len(states['10-K'])):\n",
    "    m = states['10-K'][i]\n",
    "    display(m)\n",
    "    annual_l.append(m)"
   ]
  },
  {
   "cell_type": "code",
   "execution_count": null,
   "metadata": {
    "scrolled": false
   },
   "outputs": [],
   "source": [
    "year_labels2 = []\n",
    "statment_labels = []\n",
    "annual_statments_clean = []\n",
    "for i in annual_l:\n",
    "    \n",
    "    stt = i.index.get_level_values(2).unique()\n",
    "    statment_labels.append(list(stt))\n",
    "    \n",
    "statement_labels = [''.join(x) for x in statment_labels]\n"
   ]
  },
  {
   "cell_type": "code",
   "execution_count": null,
   "metadata": {},
   "outputs": [],
   "source": [
    "mamba2 = dict(zip(statement_labels,annual_l))\n",
    "mamba2['IS']"
   ]
  },
  {
   "cell_type": "code",
   "execution_count": null,
   "metadata": {
    "scrolled": false
   },
   "outputs": [],
   "source": [
    "mk = mamba2['IS']\n",
    "mk"
   ]
  },
  {
   "cell_type": "code",
   "execution_count": null,
   "metadata": {
    "scrolled": true
   },
   "outputs": [],
   "source": [
    "mq = mamba['IS']\n",
    "mq"
   ]
  },
  {
   "cell_type": "code",
   "execution_count": null,
   "metadata": {
    "scrolled": true
   },
   "outputs": [],
   "source": [
    "r = pd.merge(left = mk, right = mq, on='plabel')"
   ]
  },
  {
   "cell_type": "code",
   "execution_count": null,
   "metadata": {},
   "outputs": [],
   "source": [
    "v = r.reindex(sorted(r.columns, reverse=True), axis=1)\n",
    "v"
   ]
  },
  {
   "cell_type": "code",
   "execution_count": null,
   "metadata": {},
   "outputs": [],
   "source": [
    "v[v.columns[::-1]]"
   ]
  },
  {
   "cell_type": "code",
   "execution_count": null,
   "metadata": {},
   "outputs": [],
   "source": []
  },
  {
   "cell_type": "code",
   "execution_count": null,
   "metadata": {},
   "outputs": [],
   "source": []
  },
  {
   "cell_type": "code",
   "execution_count": null,
   "metadata": {},
   "outputs": [],
   "source": []
  },
  {
   "cell_type": "code",
   "execution_count": null,
   "metadata": {},
   "outputs": [],
   "source": []
  },
  {
   "cell_type": "code",
   "execution_count": null,
   "metadata": {},
   "outputs": [],
   "source": []
  },
  {
   "cell_type": "code",
   "execution_count": null,
   "metadata": {},
   "outputs": [],
   "source": [
    "##### NEED TO FIGURE THIS OUT.... maybe due to the common numbers like below\n",
    "#fy_convert = pd.to_numeric(aapl['fy'], downcast='integer')\n",
    "\n",
    "#### Converts year labels to int but will only keep one of each year\n",
    "#[int(i) for i in year_labels]"
   ]
  }
 ],
 "metadata": {
  "kernelspec": {
   "display_name": "Python 3",
   "language": "python",
   "name": "python3"
  },
  "language_info": {
   "codemirror_mode": {
    "name": "ipython",
    "version": 3
   },
   "file_extension": ".py",
   "mimetype": "text/x-python",
   "name": "python",
   "nbconvert_exporter": "python",
   "pygments_lexer": "ipython3",
   "version": "3.6.7"
  }
 },
 "nbformat": 4,
 "nbformat_minor": 2
}
